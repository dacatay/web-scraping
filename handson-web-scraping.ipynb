{
 "cells": [
  {
   "cell_type": "code",
   "execution_count": null,
   "metadata": {
    "collapsed": true
   },
   "outputs": [],
   "source": [
    "url = 'https://www.accuweather.com/en/us/new-york-ny/10007/daily-weather-forecast/349727'\n",
    "source = requests.get(url)\n",
    "soup = BeautifulSoup(source, 'html.parser')\n",
    "fife_day = soup.find(id=\"feed-tab\")\n",
    "forecast_items = fife_day.find_all(class_=\"info\")\n",
    "today = forecast_items[0]\n",
    "print(today.prettify())"
   ]
  }
 ],
 "metadata": {
  "kernelspec": {
   "display_name": "Python 3",
   "language": "python",
   "name": "python3"
  },
  "language_info": {
   "codemirror_mode": {
    "name": "ipython",
    "version": 3
   },
   "file_extension": ".py",
   "mimetype": "text/x-python",
   "name": "python",
   "nbconvert_exporter": "python",
   "pygments_lexer": "ipython3",
   "version": "3.6.0"
  }
 },
 "nbformat": 4,
 "nbformat_minor": 2
}
